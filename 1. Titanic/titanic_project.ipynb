{
 "cells": [
  {
   "cell_type": "markdown",
   "metadata": {},
   "source": [
    "Importing all require modules and packages"
   ]
  },
  {
   "cell_type": "code",
   "execution_count": 54,
   "metadata": {},
   "outputs": [],
   "source": [
    "# Importing all modelues and packages required\n",
    "import sqlite3 as sql\n",
    "import numpy as np\n",
    "import pandas as pd\n",
    "import matplotlib.pyplot as plt\n",
    "import seaborn as sns\n",
    "import requests\n",
    "import re\n",
    "import time\n",
    "import os\n",
    "\n",
    "# Preprocessing\n",
    "from sklearn.model_selection import train_test_split\n",
    "from imblearn.combine import SMOTEENN\n",
    "from imblearn.over_sampling import SMOTE\n",
    "from sklearn.compose import ColumnTransformer\n",
    "from sklearn.preprocessing import StandardScaler\n",
    "from sklearn.preprocessing import OneHotEncoder\n",
    "from sklearn.preprocessing import MinMaxScaler\n",
    "from sklearn.pipeline import Pipeline,make_pipeline\n",
    "\n",
    "# Models\n",
    "from sklearn.linear_model import LogisticRegression\n",
    "from sklearn.neighbors import KNeighborsClassifier\n",
    "from sklearn.ensemble import RandomForestClassifier, ExtraTreesClassifier,StackingClassifier\n",
    "from lightgbm import LGBMClassifier\n",
    "import xgboost as xgb\n",
    "\n",
    "# Tuning\n",
    "from sklearn.experimental import enable_halving_search_cv\n",
    "from sklearn.model_selection import GridSearchCV, HalvingGridSearchCV\n",
    "from sklearn.feature_selection import SelectKBest,chi2\n",
    "from sklearn.inspection import permutation_importance\n",
    "from sklearn.model_selection import cross_val_score\n",
    "from sklearn.metrics import precision_recall_fscore_support as score, accuracy_score, precision_score, recall_score, f1_score, roc_auc_score, confusion_matrix, classification_report"
   ]
  },
  {
   "cell_type": "code",
   "execution_count": 55,
   "metadata": {},
   "outputs": [],
   "source": [
    "sns.set()\n",
    "plt.rc('font', size=15)"
   ]
  },
  {
   "cell_type": "markdown",
   "metadata": {},
   "source": [
    "Retrieving the dataset"
   ]
  },
  {
   "cell_type": "code",
   "execution_count": 56,
   "metadata": {},
   "outputs": [],
   "source": [
    "#import opendatasets as od\n",
    "#od.download(\"https` ://www.kaggle.com/competitions/titanic/data\")"
   ]
  },
  {
   "cell_type": "code",
   "execution_count": 57,
   "metadata": {},
   "outputs": [
    {
     "data": {
      "text/plain": [
       "Index(['PassengerId', 'Survived', 'Pclass', 'Name', 'Sex', 'Age', 'SibSp',\n",
       "       'Parch', 'Ticket', 'Fare', 'Cabin', 'Embarked', 'train_test'],\n",
       "      dtype='object')"
      ]
     },
     "execution_count": 57,
     "metadata": {},
     "output_type": "execute_result"
    }
   ],
   "source": [
    "training = pd.read_csv('titanic/train.csv')\n",
    "test = pd.read_csv('titanic/test.csv')\n",
    "\n",
    "# to indicate whether the \n",
    "training['train_test'] = 1\n",
    "test['train_test'] = 0\n",
    "test['Survived'] = np.NaN\n",
    "all_data = pd.concat([training,test],ignore_index=True)\n",
    "\n",
    "%matplotlib inline\n",
    "all_data.columns"
   ]
  },
  {
   "cell_type": "markdown",
   "metadata": {},
   "source": [
    "# 1. Data Exploration"
   ]
  },
  {
   "cell_type": "markdown",
   "metadata": {},
   "source": [
    "Data attributes\n",
    "* `Survived` : Whether the passenger survived the shipwreck\n",
    "* `Pclass` : A proxy for socio-economic status (SES) of the passenger - 1 = Upper, 2 = Middle, 3 = Lower\n",
    "* `Sex` : Sex of the passenger\n",
    "* `Age` : Age of the passenger. Age is fractional if less than 1. If the age is estimated, is it in the form of xx.5\n",
    "* `Sibsp` : Number of siblings/spouses the passenger has aboard the ship\n",
    "* `Parch` : Number of parents / children the passenger has aboard the ship\n",
    "* `Ticket` : Ticket number\n",
    "* `Fare` : Passenger fare paid for the ticket\n",
    "* `Cabin` : Cabin number of the passenger\n",
    "* `Embarked` : Port of Embarkation\t- C = Cherbourg, Q = Queenstown, S = Southampton\n"
   ]
  },
  {
   "cell_type": "markdown",
   "metadata": {},
   "source": [
    "Taking a look at the training dataset"
   ]
  },
  {
   "cell_type": "code",
   "execution_count": 58,
   "metadata": {},
   "outputs": [
    {
     "data": {
      "text/html": [
       "<div>\n",
       "<style scoped>\n",
       "    .dataframe tbody tr th:only-of-type {\n",
       "        vertical-align: middle;\n",
       "    }\n",
       "\n",
       "    .dataframe tbody tr th {\n",
       "        vertical-align: top;\n",
       "    }\n",
       "\n",
       "    .dataframe thead th {\n",
       "        text-align: right;\n",
       "    }\n",
       "</style>\n",
       "<table border=\"1\" class=\"dataframe\">\n",
       "  <thead>\n",
       "    <tr style=\"text-align: right;\">\n",
       "      <th></th>\n",
       "      <th>PassengerId</th>\n",
       "      <th>Survived</th>\n",
       "      <th>Pclass</th>\n",
       "      <th>Name</th>\n",
       "      <th>Sex</th>\n",
       "      <th>Age</th>\n",
       "      <th>SibSp</th>\n",
       "      <th>Parch</th>\n",
       "      <th>Ticket</th>\n",
       "      <th>Fare</th>\n",
       "      <th>Cabin</th>\n",
       "      <th>Embarked</th>\n",
       "      <th>train_test</th>\n",
       "    </tr>\n",
       "  </thead>\n",
       "  <tbody>\n",
       "    <tr>\n",
       "      <th>0</th>\n",
       "      <td>1</td>\n",
       "      <td>0</td>\n",
       "      <td>3</td>\n",
       "      <td>Braund, Mr. Owen Harris</td>\n",
       "      <td>male</td>\n",
       "      <td>22.0</td>\n",
       "      <td>1</td>\n",
       "      <td>0</td>\n",
       "      <td>A/5 21171</td>\n",
       "      <td>7.2500</td>\n",
       "      <td>NaN</td>\n",
       "      <td>S</td>\n",
       "      <td>1</td>\n",
       "    </tr>\n",
       "    <tr>\n",
       "      <th>1</th>\n",
       "      <td>2</td>\n",
       "      <td>1</td>\n",
       "      <td>1</td>\n",
       "      <td>Cumings, Mrs. John Bradley (Florence Briggs Th...</td>\n",
       "      <td>female</td>\n",
       "      <td>38.0</td>\n",
       "      <td>1</td>\n",
       "      <td>0</td>\n",
       "      <td>PC 17599</td>\n",
       "      <td>71.2833</td>\n",
       "      <td>C85</td>\n",
       "      <td>C</td>\n",
       "      <td>1</td>\n",
       "    </tr>\n",
       "    <tr>\n",
       "      <th>2</th>\n",
       "      <td>3</td>\n",
       "      <td>1</td>\n",
       "      <td>3</td>\n",
       "      <td>Heikkinen, Miss. Laina</td>\n",
       "      <td>female</td>\n",
       "      <td>26.0</td>\n",
       "      <td>0</td>\n",
       "      <td>0</td>\n",
       "      <td>STON/O2. 3101282</td>\n",
       "      <td>7.9250</td>\n",
       "      <td>NaN</td>\n",
       "      <td>S</td>\n",
       "      <td>1</td>\n",
       "    </tr>\n",
       "    <tr>\n",
       "      <th>3</th>\n",
       "      <td>4</td>\n",
       "      <td>1</td>\n",
       "      <td>1</td>\n",
       "      <td>Futrelle, Mrs. Jacques Heath (Lily May Peel)</td>\n",
       "      <td>female</td>\n",
       "      <td>35.0</td>\n",
       "      <td>1</td>\n",
       "      <td>0</td>\n",
       "      <td>113803</td>\n",
       "      <td>53.1000</td>\n",
       "      <td>C123</td>\n",
       "      <td>S</td>\n",
       "      <td>1</td>\n",
       "    </tr>\n",
       "    <tr>\n",
       "      <th>4</th>\n",
       "      <td>5</td>\n",
       "      <td>0</td>\n",
       "      <td>3</td>\n",
       "      <td>Allen, Mr. William Henry</td>\n",
       "      <td>male</td>\n",
       "      <td>35.0</td>\n",
       "      <td>0</td>\n",
       "      <td>0</td>\n",
       "      <td>373450</td>\n",
       "      <td>8.0500</td>\n",
       "      <td>NaN</td>\n",
       "      <td>S</td>\n",
       "      <td>1</td>\n",
       "    </tr>\n",
       "  </tbody>\n",
       "</table>\n",
       "</div>"
      ],
      "text/plain": [
       "   PassengerId  Survived  Pclass  \\\n",
       "0            1         0       3   \n",
       "1            2         1       1   \n",
       "2            3         1       3   \n",
       "3            4         1       1   \n",
       "4            5         0       3   \n",
       "\n",
       "                                                Name     Sex   Age  SibSp  \\\n",
       "0                            Braund, Mr. Owen Harris    male  22.0      1   \n",
       "1  Cumings, Mrs. John Bradley (Florence Briggs Th...  female  38.0      1   \n",
       "2                             Heikkinen, Miss. Laina  female  26.0      0   \n",
       "3       Futrelle, Mrs. Jacques Heath (Lily May Peel)  female  35.0      1   \n",
       "4                           Allen, Mr. William Henry    male  35.0      0   \n",
       "\n",
       "   Parch            Ticket     Fare Cabin Embarked  train_test  \n",
       "0      0         A/5 21171   7.2500   NaN        S           1  \n",
       "1      0          PC 17599  71.2833   C85        C           1  \n",
       "2      0  STON/O2. 3101282   7.9250   NaN        S           1  \n",
       "3      0            113803  53.1000  C123        S           1  \n",
       "4      0            373450   8.0500   NaN        S           1  "
      ]
     },
     "execution_count": 58,
     "metadata": {},
     "output_type": "execute_result"
    }
   ],
   "source": [
    "# quick look at the dataset\n",
    "training.head()"
   ]
  },
  {
   "cell_type": "code",
   "execution_count": 59,
   "metadata": {},
   "outputs": [
    {
     "name": "stdout",
     "output_type": "stream",
     "text": [
      "Dataset dimension:  (891, 13)\n"
     ]
    }
   ],
   "source": [
    "print(\"Dataset dimension: \",training.shape)"
   ]
  },
  {
   "cell_type": "code",
   "execution_count": 60,
   "metadata": {},
   "outputs": [
    {
     "name": "stdout",
     "output_type": "stream",
     "text": [
      "<class 'pandas.core.frame.DataFrame'>\n",
      "RangeIndex: 891 entries, 0 to 890\n",
      "Data columns (total 13 columns):\n",
      " #   Column       Non-Null Count  Dtype  \n",
      "---  ------       --------------  -----  \n",
      " 0   PassengerId  891 non-null    int64  \n",
      " 1   Survived     891 non-null    int64  \n",
      " 2   Pclass       891 non-null    int64  \n",
      " 3   Name         891 non-null    object \n",
      " 4   Sex          891 non-null    object \n",
      " 5   Age          714 non-null    float64\n",
      " 6   SibSp        891 non-null    int64  \n",
      " 7   Parch        891 non-null    int64  \n",
      " 8   Ticket       891 non-null    object \n",
      " 9   Fare         891 non-null    float64\n",
      " 10  Cabin        204 non-null    object \n",
      " 11  Embarked     889 non-null    object \n",
      " 12  train_test   891 non-null    int64  \n",
      "dtypes: float64(2), int64(6), object(5)\n",
      "memory usage: 90.6+ KB\n"
     ]
    }
   ],
   "source": [
    "training.info()"
   ]
  },
  {
   "cell_type": "markdown",
   "metadata": {},
   "source": [
    "Null data are identified for `Age`, `Cabin` and `Embarked`"
   ]
  },
  {
   "cell_type": "code",
   "execution_count": 61,
   "metadata": {},
   "outputs": [
    {
     "data": {
      "text/plain": [
       "PassengerId    891\n",
       "Survived         2\n",
       "Pclass           3\n",
       "Name           891\n",
       "Sex              2\n",
       "Age             88\n",
       "SibSp            7\n",
       "Parch            7\n",
       "Ticket         681\n",
       "Fare           248\n",
       "Cabin          147\n",
       "Embarked         3\n",
       "train_test       1\n",
       "dtype: int64"
      ]
     },
     "execution_count": 61,
     "metadata": {},
     "output_type": "execute_result"
    }
   ],
   "source": [
    "training.nunique()"
   ]
  },
  {
   "cell_type": "markdown",
   "metadata": {},
   "source": [
    "Ticket for some passengers are the same and there are 248 unique pricing for total tickets"
   ]
  },
  {
   "cell_type": "markdown",
   "metadata": {},
   "source": [
    "\n",
    "Splitting into numerical and categorical data\n"
   ]
  },
  {
   "cell_type": "code",
   "execution_count": 62,
   "metadata": {},
   "outputs": [],
   "source": [
    "# PassengerId  will not be included since it is just an indexof the passenger\n",
    "# \"Survived\" is the target variable\n",
    "# \"train_test\" is to classify whether the data is from training or test dataset\n",
    "\n",
    "num_df = training[[\"Age\",\"SibSp\",\"Parch\",\"Fare\"]] #5 \n",
    "cat_df = training[[\"Name\", \"Pclass\", \"Sex\",\"Ticket\",\"Cabin\",\"Embarked\"]] #5"
   ]
  },
  {
   "cell_type": "markdown",
   "metadata": {},
   "source": [
    "## 1a. Target variable"
   ]
  },
  {
   "cell_type": "code",
   "execution_count": 63,
   "metadata": {},
   "outputs": [
    {
     "data": {
      "image/png": "[encoded data removed]",
      "text/plain": [
       "<Figure size 360x360 with 1 Axes>"
      ]
     },
     "metadata": {
      "needs_background": "light"
     },
     "output_type": "display_data"
    }
   ],
   "source": [
    "g = sns.catplot(x =\"Survived\", data = training , kind = \"count\",height = 5)\n",
    "\n",
    "for ax in g.axes.ravel():\n",
    "# obtaining the height of each bar graph\n",
    "    ls = []\n",
    "    for p in ax.patches:\n",
    "        ls.append(p.get_height())\n",
    "\n",
    "    # summing of all the total variables   \n",
    "    total = 0\n",
    "    for x in ls:\n",
    "        total += x\n",
    "\n",
    "    # Plotting the count plot\n",
    "    for p in ax.patches:\n",
    "        ax.annotate(format(p.get_height()/total*100, '.2f'), (p.get_x() + p.get_width() / 2.,\n",
    "        p.get_height()), ha = 'center', va = 'center', xytext = (0, 10), textcoords = 'offset points')"
   ]
  },
  {
   "cell_type": "markdown",
   "metadata": {},
   "source": [
    "Survival rate of the passengers are low with 38% of passengers surviving. This might be considered imbalanced for classification and poised some difficulties during training later"
   ]
  },
  {
   "cell_type": "markdown",
   "metadata": {},
   "source": [
    "## 1b. Numerical variables"
   ]
  },
  {
   "cell_type": "code",
   "execution_count": 64,
   "metadata": {},
   "outputs": [
    {
     "data": {
      "text/html": [
       "<div>\n",
       "<style scoped>\n",
       "    .dataframe tbody tr th:only-of-type {\n",
       "        vertical-align: middle;\n",
       "    }\n",
       "\n",
       "    .dataframe tbody tr th {\n",
       "        vertical-align: top;\n",
       "    }\n",
       "\n",
       "    .dataframe thead th {\n",
       "        text-align: right;\n",
       "    }\n",
       "</style>\n",
       "<table border=\"1\" class=\"dataframe\">\n",
       "  <thead>\n",
       "    <tr style=\"text-align: right;\">\n",
       "      <th></th>\n",
       "      <th>Age</th>\n",
       "      <th>SibSp</th>\n",
       "      <th>Parch</th>\n",
       "      <th>Fare</th>\n",
       "    </tr>\n",
       "  </thead>\n",
       "  <tbody>\n",
       "    <tr>\n",
       "      <th>count</th>\n",
       "      <td>714.000000</td>\n",
       "      <td>891.000000</td>\n",
       "      <td>891.000000</td>\n",
       "      <td>891.000000</td>\n",
       "    </tr>\n",
       "    <tr>\n",
       "      <th>mean</th>\n",
       "      <td>29.699118</td>\n",
       "      <td>0.523008</td>\n",
       "      <td>0.381594</td>\n",
       "      <td>32.204208</td>\n",
       "    </tr>\n",
       "    <tr>\n",
       "      <th>std</th>\n",
       "      <td>14.526497</td>\n",
       "      <td>1.102743</td>\n",
       "      <td>0.806057</td>\n",
       "      <td>49.693429</td>\n",
       "    </tr>\n",
       "    <tr>\n",
       "      <th>min</th>\n",
       "      <td>0.420000</td>\n",
       "      <td>0.000000</td>\n",
       "      <td>0.000000</td>\n",
       "      <td>0.000000</td>\n",
       "    </tr>\n",
       "    <tr>\n",
       "      <th>25%</th>\n",
       "      <td>20.125000</td>\n",
       "      <td>0.000000</td>\n",
       "      <td>0.000000</td>\n",
       "      <td>7.910400</td>\n",
       "    </tr>\n",
       "    <tr>\n",
       "      <th>50%</th>\n",
       "      <td>28.000000</td>\n",
       "      <td>0.000000</td>\n",
       "      <td>0.000000</td>\n",
       "      <td>14.454200</td>\n",
       "    </tr>\n",
       "    <tr>\n",
       "      <th>75%</th>\n",
       "      <td>38.000000</td>\n",
       "      <td>1.000000</td>\n",
       "      <td>0.000000</td>\n",
       "      <td>31.000000</td>\n",
       "    </tr>\n",
       "    <tr>\n",
       "      <th>max</th>\n",
       "      <td>80.000000</td>\n",
       "      <td>8.000000</td>\n",
       "      <td>6.000000</td>\n",
       "      <td>512.329200</td>\n",
       "    </tr>\n",
       "  </tbody>\n",
       "</table>\n",
       "</div>"
      ],
      "text/plain": [
       "              Age       SibSp       Parch        Fare\n",
       "count  714.000000  891.000000  891.000000  891.000000\n",
       "mean    29.699118    0.523008    0.381594   32.204208\n",
       "std     14.526497    1.102743    0.806057   49.693429\n",
       "min      0.420000    0.000000    0.000000    0.000000\n",
       "25%     20.125000    0.000000    0.000000    7.910400\n",
       "50%     28.000000    0.000000    0.000000   14.454200\n",
       "75%     38.000000    1.000000    0.000000   31.000000\n",
       "max     80.000000    8.000000    6.000000  512.329200"
      ]
     },
     "execution_count": 64,
     "metadata": {},
     "output_type": "execute_result"
    }
   ],
   "source": [
    "num_df.describe()"
   ]
  },
  {
   "cell_type": "markdown",
   "metadata": {},
   "source": [
    "Some passenger's `age` is missing from the dataset and will have to estimate their age based on Parch and SibSp"
   ]
  },
  {
   "cell_type": "code",
   "execution_count": 65,
   "metadata": {},
   "outputs": [
    {
     "data": {
      "text/plain": [
       "<AxesSubplot:>"
      ]
     },
     "execution_count": 65,
     "metadata": {},
     "output_type": "execute_result"
    },
    {
     "data": {
      "image/png": "[encoded data removed]",
      "text/plain": [
       "<Figure size 432x288 with 2 Axes>"
      ]
     },
     "metadata": {
      "needs_background": "light"
     },
     "output_type": "display_data"
    }
   ],
   "source": [
    "#f, axes = plt.subplots(1, 1, figsize=(12, 12))\n",
    "sns.heatmap(num_df.corr(), vmin = -1, vmax = 1, linewidths = 1.5,\n",
    "           annot = True, fmt = \".2f\", annot_kws = {\"size\": 12}, cmap = 'coolwarm')"
   ]
  },
  {
   "cell_type": "markdown",
   "metadata": {},
   "source": [
    "* `Age` have a relative negative correlation to `SibSp`, which might suggest that the older someone is, the seller number of siblings/spouse is onboard the ship.\n",
    "* `SibSp` have a relative positive correlation to `Parch` which suggests that a portion of passengers are family (parents with children)"
   ]
  },
  {
   "cell_type": "code",
   "execution_count": 66,
   "metadata": {},
   "outputs": [],
   "source": [
    "# Creating a plotting function for boxplot, histogram and violin plot for the variables\n",
    "def plotting(data,a):\n",
    "    f, axes = plt.subplots(3, figsize=(16, 12))\n",
    "    sns.boxplot(data = data, x = data[a], orient = \"h\", color = 'r' , ax = axes[0])\n",
    "    sns.histplot(data = data[a], color = 'g', ax = axes[1])\n",
    "    sns.violinplot(data = data[a], orient = \"h\",ax = axes[2])"
   ]
  },
  {
   "cell_type": "markdown",
   "metadata": {},
   "source": [
    "### i) Age variable"
   ]
  },
  {
   "cell_type": "code",
   "execution_count": 67,
   "metadata": {},
   "outputs": [
    {
     "data": {
      "image/png": "[encoded data removed]",
      "text/plain": [
       "<Figure size 1152x864 with 3 Axes>"
      ]
     },
     "metadata": {
      "needs_background": "light"
     },
     "output_type": "display_data"
    }
   ],
   "source": [
    "plotting(num_df,\"Age\")"
   ]
  },
  {
   "cell_type": "code",
   "execution_count": 68,
   "metadata": {},
   "outputs": [
    {
     "data": {
      "text/html": [
       "<div>\n",
       "<style scoped>\n",
       "    .dataframe tbody tr th:only-of-type {\n",
       "        vertical-align: middle;\n",
       "    }\n",
       "\n",
       "    .dataframe tbody tr th {\n",
       "        vertical-align: top;\n",
       "    }\n",
       "\n",
       "    .dataframe thead th {\n",
       "        text-align: right;\n",
       "    }\n",
       "</style>\n",
       "<table border=\"1\" class=\"dataframe\">\n",
       "  <thead>\n",
       "    <tr style=\"text-align: right;\">\n",
       "      <th></th>\n",
       "      <th>PassengerId</th>\n",
       "      <th>Survived</th>\n",
       "      <th>Pclass</th>\n",
       "      <th>Name</th>\n",
       "      <th>Sex</th>\n",
       "      <th>Age</th>\n",
       "      <th>SibSp</th>\n",
       "      <th>Parch</th>\n",
       "      <th>Ticket</th>\n",
       "      <th>Fare</th>\n",
       "      <th>Cabin</th>\n",
       "      <th>Embarked</th>\n",
       "      <th>train_test</th>\n",
       "    </tr>\n",
       "  </thead>\n",
       "  <tbody>\n",
       "    <tr>\n",
       "      <th>152</th>\n",
       "      <td>153</td>\n",
       "      <td>0</td>\n",
       "      <td>3</td>\n",
       "      <td>Meo, Mr. Alfonzo</td>\n",
       "      <td>male</td>\n",
       "      <td>55.5</td>\n",
       "      <td>0</td>\n",
       "      <td>0</td>\n",
       "      <td>A.5. 11206</td>\n",
       "      <td>8.0500</td>\n",
       "      <td>NaN</td>\n",
       "      <td>S</td>\n",
       "      <td>1</td>\n",
       "    </tr>\n",
       "    <tr>\n",
       "      <th>203</th>\n",
       "      <td>204</td>\n",
       "      <td>0</td>\n",
       "      <td>3</td>\n",
       "      <td>Youseff, Mr. Gerious</td>\n",
       "      <td>male</td>\n",
       "      <td>45.5</td>\n",
       "      <td>0</td>\n",
       "      <td>0</td>\n",
       "      <td>2628</td>\n",
       "      <td>7.2250</td>\n",
       "      <td>NaN</td>\n",
       "      <td>C</td>\n",
       "      <td>1</td>\n",
       "    </tr>\n",
       "    <tr>\n",
       "      <th>296</th>\n",
       "      <td>297</td>\n",
       "      <td>0</td>\n",
       "      <td>3</td>\n",
       "      <td>Hanna, Mr. Mansour</td>\n",
       "      <td>male</td>\n",
       "      <td>23.5</td>\n",
       "      <td>0</td>\n",
       "      <td>0</td>\n",
       "      <td>2693</td>\n",
       "      <td>7.2292</td>\n",
       "      <td>NaN</td>\n",
       "      <td>C</td>\n",
       "      <td>1</td>\n",
       "    </tr>\n",
       "    <tr>\n",
       "      <th>331</th>\n",
       "      <td>332</td>\n",
       "      <td>0</td>\n",
       "      <td>1</td>\n",
       "      <td>Partner, Mr. Austen</td>\n",
       "      <td>male</td>\n",
       "      <td>45.5</td>\n",
       "      <td>0</td>\n",
       "      <td>0</td>\n",
       "      <td>113043</td>\n",
       "      <td>28.5000</td>\n",
       "      <td>C124</td>\n",
       "      <td>S</td>\n",
       "      <td>1</td>\n",
       "    </tr>\n",
       "  </tbody>\n",
       "</table>\n",
       "</div>"
      ],
      "text/plain": [
       "     PassengerId  Survived  Pclass                  Name   Sex   Age  SibSp  \\\n",
       "152          153         0       3      Meo, Mr. Alfonzo  male  55.5      0   \n",
       "203          204         0       3  Youseff, Mr. Gerious  male  45.5      0   \n",
       "296          297         0       3    Hanna, Mr. Mansour  male  23.5      0   \n",
       "331          332         0       1   Partner, Mr. Austen  male  45.5      0   \n",
       "\n",
       "     Parch      Ticket     Fare Cabin Embarked  train_test  \n",
       "152      0  A.5. 11206   8.0500   NaN        S           1  \n",
       "203      0        2628   7.2250   NaN        C           1  \n",
       "296      0        2693   7.2292   NaN        C           1  \n",
       "331      0      113043  28.5000  C124        S           1  "
      ]
     },
     "execution_count": 68,
     "metadata": {},
     "output_type": "execute_result"
    }
   ],
   "source": [
    "# Taking a look at passenger details with age that is estimated\n",
    "training[training.Age%2>1]"
   ]
  },
  {
   "cell_type": "markdown",
   "metadata": {},
   "source": [
    "### ii) SibSp"
   ]
  },
  {
   "cell_type": "code",
   "execution_count": 69,
   "metadata": {},
   "outputs": [
    {
     "data": {
      "image/png": "[encoded data removed]",
      "text/plain": [
       "<Figure size 1152x864 with 3 Axes>"
      ]
     },
     "metadata": {
      "needs_background": "light"
     },
     "output_type": "display_data"
    }
   ],
   "source": [
    "plotting(num_df,\"SibSp\")"
   ]
  },
  {
   "cell_type": "markdown",
   "metadata": {},
   "source": [
    "### iii) Parch"
   ]
  },
  {
   "cell_type": "code",
   "execution_count": 70,
   "metadata": {},
   "outputs": [
    {
     "data": {
      "image/png": "[encoded data removed]",
      "text/plain": [
       "<Figure size 1152x864 with 3 Axes>"
      ]
     },
     "metadata": {
      "needs_background": "light"
     },
     "output_type": "display_data"
    }
   ],
   "source": [
    "plotting(num_df,\"Parch\")"
   ]
  },
  {
   "cell_type": "markdown",
   "metadata": {},
   "source": [
    "### iv) Fare"
   ]
  },
  {
   "cell_type": "code",
   "execution_count": 71,
   "metadata": {},
   "outputs": [
    {
     "data": {
      "image/png": "[encoded data removed]",
      "text/plain": [
       "<Figure size 1152x864 with 3 Axes>"
      ]
     },
     "metadata": {
      "needs_background": "light"
     },
     "output_type": "display_data"
    }
   ],
   "source": [
    "plotting(num_df,\"Fare\")"
   ]
  },
  {
   "cell_type": "markdown",
   "metadata": {},
   "source": [
    "The distribution for fare is right skewed. It is weird that some passenger's fare is 0"
   ]
  },
  {
   "cell_type": "markdown",
   "metadata": {},
   "source": [
    "## 1c. Relationship between Numerical variables with targer variables"
   ]
  },
  {
   "cell_type": "code",
   "execution_count": 72,
   "metadata": {},
   "outputs": [
    {
     "name": "stdout",
     "output_type": "stream",
     "text": [
      "Age       0.42   0.67   0.75   0.83   0.92   1.00   2.00   3.00   4.00   \\\n",
      "Survived                                                                  \n",
      "0           NaN    NaN    NaN    NaN    NaN    2.0    7.0    1.0    3.0   \n",
      "1           1.0    1.0    2.0    2.0    1.0    5.0    3.0    5.0    7.0   \n",
      "\n",
      "Age       5.00   ...  62.00  63.00  64.00  65.00  66.00  70.00  70.50  71.00  \\\n",
      "Survived         ...                                                           \n",
      "0           NaN  ...    2.0    NaN    2.0    3.0    1.0    2.0    1.0    2.0   \n",
      "1           4.0  ...    2.0    2.0    NaN    NaN    NaN    NaN    NaN    NaN   \n",
      "\n",
      "Age       74.00  80.00  \n",
      "Survived                \n",
      "0           1.0    NaN  \n",
      "1           NaN    1.0  \n",
      "\n",
      "[2 rows x 88 columns] \n",
      "\n",
      "Fare      0.0000    4.0125    5.0000    6.2375    6.4375    6.4500    \\\n",
      "Survived                                                               \n",
      "0             14.0       1.0       1.0       1.0       1.0       1.0   \n",
      "1              1.0       NaN       NaN       NaN       NaN       NaN   \n",
      "\n",
      "Fare      6.4958    6.7500    6.8583    6.9500    ...  153.4625  164.8667  \\\n",
      "Survived                                          ...                       \n",
      "0              2.0       2.0       1.0       1.0  ...       1.0       NaN   \n",
      "1              NaN       NaN       NaN       NaN  ...       2.0       2.0   \n",
      "\n",
      "Fare      211.3375  211.5000  221.7792  227.5250  247.5208  262.3750  \\\n",
      "Survived                                                               \n",
      "0              NaN       1.0       1.0       1.0       1.0       NaN   \n",
      "1              3.0       NaN       NaN       3.0       1.0       2.0   \n",
      "\n",
      "Fare      263.0000  512.3292  \n",
      "Survived                      \n",
      "0              2.0       NaN  \n",
      "1              2.0       3.0  \n",
      "\n",
      "[2 rows x 248 columns] \n",
      "\n"
     ]
    }
   ],
   "source": [
    "print(pd.pivot_table(training, index = 'Survived', columns = 'Age', values = 'Ticket' ,aggfunc ='count'),\"\\n\")\n",
    "#print(pd.pivot_table(training, index = 'Survived', columns = '', values = 'Ticket' ,aggfunc ='count'),\"\\n\")\n",
    "print(pd.pivot_table(training, index = 'Survived', columns = 'Fare', values = 'Ticket' ,aggfunc ='count'),\"\\n\")"
   ]
  },
  {
   "cell_type": "code",
   "execution_count": null,
   "metadata": {},
   "outputs": [],
   "source": []
  },
  {
   "cell_type": "markdown",
   "metadata": {},
   "source": [
    "## 1d. Categorical variables"
   ]
  },
  {
   "cell_type": "code",
   "execution_count": 73,
   "metadata": {},
   "outputs": [
    {
     "data": {
      "image/png": "[encoded data removed]",
      "text/plain": [
       "<Figure size 633.6x288 with 1 Axes>"
      ]
     },
     "metadata": {
      "needs_background": "light"
     },
     "output_type": "display_data"
    },
    {
     "data": {
      "image/png": "[encoded data removed]",
      "text/plain": [
       "<Figure size 633.6x288 with 1 Axes>"
      ]
     },
     "metadata": {
      "needs_background": "light"
     },
     "output_type": "display_data"
    },
    {
     "data": {
      "image/png": "[encoded data removed]",
      "text/plain": [
       "<Figure size 633.6x288 with 1 Axes>"
      ]
     },
     "metadata": {
      "needs_background": "light"
     },
     "output_type": "display_data"
    },
    {
     "data": {
      "image/png": "[encoded data removed]",
      "text/plain": [
       "<Figure size 633.6x288 with 1 Axes>"
      ]
     },
     "metadata": {
      "needs_background": "light"
     },
     "output_type": "display_data"
    },
    {
     "data": {
      "image/png": "[encoded data removed]",
      "text/plain": [
       "<Figure size 633.6x288 with 1 Axes>"
      ]
     },
     "metadata": {
      "needs_background": "light"
     },
     "output_type": "display_data"
    }
   ],
   "source": [
    "for var in cat_df:\n",
    "    # Skipping the predictor variable Name\n",
    "    if var ==\"Name\":\n",
    "        continue\n",
    "    else:\n",
    "        g = sns.catplot(x = var, data = cat_df , kind = \"count\",height = 4,aspect = 2.2)\n",
    "        for ax in g.axes.ravel():\n",
    "        # obtaining the height of each bar graph\n",
    "            ls = []\n",
    "            for p in ax.patches:\n",
    "                ls.append(p.get_height())\n",
    "        \n",
    "             # summing of all the total variables   \n",
    "            total = 0\n",
    "            for x in ls:\n",
    "                total += x\n",
    "        \n",
    "            # Plotting the count plot\n",
    "            for p in ax.patches:\n",
    "                ax.annotate(format(p.get_height()/total*100, '.2f'), (p.get_x() + p.get_width() / 2.,\n",
    "                p.get_height()), ha = 'center', va = 'center', xytext = (0, 10), textcoords = 'offset points')"
   ]
  },
  {
   "cell_type": "markdown",
   "metadata": {},
   "source": [
    "#### i) Cabin Variable"
   ]
  },
  {
   "cell_type": "code",
   "execution_count": 74,
   "metadata": {},
   "outputs": [
    {
     "data": {
      "text/plain": [
       "array([nan, 'C85', 'C123', 'E46', 'G6', 'C103', 'D56', 'A6',\n",
       "       'C23 C25 C27', 'B78', 'D33', 'B30', 'C52', 'B28', 'C83', 'F33',\n",
       "       'F G73', 'E31', 'A5', 'D10 D12', 'D26', 'C110', 'B58 B60', 'E101',\n",
       "       'F E69', 'D47', 'B86', 'F2', 'C2', 'E33', 'B19', 'A7', 'C49', 'F4',\n",
       "       'A32', 'B4', 'B80', 'A31', 'D36', 'D15', 'C93', 'C78', 'D35',\n",
       "       'C87', 'B77', 'E67', 'B94', 'C125', 'C99', 'C118', 'D7', 'A19',\n",
       "       'B49', 'D', 'C22 C26', 'C106', 'C65', 'E36', 'C54',\n",
       "       'B57 B59 B63 B66', 'C7', 'E34', 'C32', 'B18', 'C124', 'C91', 'E40',\n",
       "       'T', 'C128', 'D37', 'B35', 'E50', 'C82', 'B96 B98', 'E10', 'E44',\n",
       "       'A34', 'C104', 'C111', 'C92', 'E38', 'D21', 'E12', 'E63', 'A14',\n",
       "       'B37', 'C30', 'D20', 'B79', 'E25', 'D46', 'B73', 'C95', 'B38',\n",
       "       'B39', 'B22', 'C86', 'C70', 'A16', 'C101', 'C68', 'A10', 'E68',\n",
       "       'B41', 'A20', 'D19', 'D50', 'D9', 'A23', 'B50', 'A26', 'D48',\n",
       "       'E58', 'C126', 'B71', 'B51 B53 B55', 'D49', 'B5', 'B20', 'F G63',\n",
       "       'C62 C64', 'E24', 'C90', 'C45', 'E8', 'B101', 'D45', 'C46', 'D30',\n",
       "       'E121', 'D11', 'E77', 'F38', 'B3', 'D6', 'B82 B84', 'D17', 'A36',\n",
       "       'B102', 'B69', 'E49', 'C47', 'D28', 'E17', 'A24', 'C50', 'B42',\n",
       "       'C148'], dtype=object)"
      ]
     },
     "execution_count": 74,
     "metadata": {},
     "output_type": "execute_result"
    }
   ],
   "source": [
    "# Taking a closer looking at the unique cabin number of each passenger\n",
    "cat_df[\"Cabin\"].unique()"
   ]
  },
  {
   "cell_type": "code",
   "execution_count": 75,
   "metadata": {},
   "outputs": [],
   "source": [
    "#training.sort_values(by=\"Cabin\").head(20)"
   ]
  },
  {
   "cell_type": "markdown",
   "metadata": {},
   "source": [
    "#### ii) Name"
   ]
  },
  {
   "cell_type": "code",
   "execution_count": 76,
   "metadata": {},
   "outputs": [
    {
     "data": {
      "text/html": [
       "<div>\n",
       "<style scoped>\n",
       "    .dataframe tbody tr th:only-of-type {\n",
       "        vertical-align: middle;\n",
       "    }\n",
       "\n",
       "    .dataframe tbody tr th {\n",
       "        vertical-align: top;\n",
       "    }\n",
       "\n",
       "    .dataframe thead th {\n",
       "        text-align: right;\n",
       "    }\n",
       "</style>\n",
       "<table border=\"1\" class=\"dataframe\">\n",
       "  <thead>\n",
       "    <tr style=\"text-align: right;\">\n",
       "      <th></th>\n",
       "      <th>PassengerId</th>\n",
       "      <th>Survived</th>\n",
       "      <th>Pclass</th>\n",
       "      <th>Name</th>\n",
       "      <th>Sex</th>\n",
       "      <th>Age</th>\n",
       "      <th>SibSp</th>\n",
       "      <th>Parch</th>\n",
       "      <th>Ticket</th>\n",
       "      <th>Fare</th>\n",
       "      <th>Cabin</th>\n",
       "      <th>Embarked</th>\n",
       "      <th>train_test</th>\n",
       "    </tr>\n",
       "  </thead>\n",
       "  <tbody>\n",
       "    <tr>\n",
       "      <th>845</th>\n",
       "      <td>846</td>\n",
       "      <td>0</td>\n",
       "      <td>3</td>\n",
       "      <td>Abbing, Mr. Anthony</td>\n",
       "      <td>male</td>\n",
       "      <td>42.0</td>\n",
       "      <td>0</td>\n",
       "      <td>0</td>\n",
       "      <td>C.A. 5547</td>\n",
       "      <td>7.5500</td>\n",
       "      <td>NaN</td>\n",
       "      <td>S</td>\n",
       "      <td>1</td>\n",
       "    </tr>\n",
       "    <tr>\n",
       "      <th>746</th>\n",
       "      <td>747</td>\n",
       "      <td>0</td>\n",
       "      <td>3</td>\n",
       "      <td>Abbott, Mr. Rossmore Edward</td>\n",
       "      <td>male</td>\n",
       "      <td>16.0</td>\n",
       "      <td>1</td>\n",
       "      <td>1</td>\n",
       "      <td>C.A. 2673</td>\n",
       "      <td>20.2500</td>\n",
       "      <td>NaN</td>\n",
       "      <td>S</td>\n",
       "      <td>1</td>\n",
       "    </tr>\n",
       "    <tr>\n",
       "      <th>279</th>\n",
       "      <td>280</td>\n",
       "      <td>1</td>\n",
       "      <td>3</td>\n",
       "      <td>Abbott, Mrs. Stanton (Rosa Hunt)</td>\n",
       "      <td>female</td>\n",
       "      <td>35.0</td>\n",
       "      <td>1</td>\n",
       "      <td>1</td>\n",
       "      <td>C.A. 2673</td>\n",
       "      <td>20.2500</td>\n",
       "      <td>NaN</td>\n",
       "      <td>S</td>\n",
       "      <td>1</td>\n",
       "    </tr>\n",
       "    <tr>\n",
       "      <th>308</th>\n",
       "      <td>309</td>\n",
       "      <td>0</td>\n",
       "      <td>2</td>\n",
       "      <td>Abelson, Mr. Samuel</td>\n",
       "      <td>male</td>\n",
       "      <td>30.0</td>\n",
       "      <td>1</td>\n",
       "      <td>0</td>\n",
       "      <td>P/PP 3381</td>\n",
       "      <td>24.0000</td>\n",
       "      <td>NaN</td>\n",
       "      <td>C</td>\n",
       "      <td>1</td>\n",
       "    </tr>\n",
       "    <tr>\n",
       "      <th>874</th>\n",
       "      <td>875</td>\n",
       "      <td>1</td>\n",
       "      <td>2</td>\n",
       "      <td>Abelson, Mrs. Samuel (Hannah Wizosky)</td>\n",
       "      <td>female</td>\n",
       "      <td>28.0</td>\n",
       "      <td>1</td>\n",
       "      <td>0</td>\n",
       "      <td>P/PP 3381</td>\n",
       "      <td>24.0000</td>\n",
       "      <td>NaN</td>\n",
       "      <td>C</td>\n",
       "      <td>1</td>\n",
       "    </tr>\n",
       "    <tr>\n",
       "      <th>...</th>\n",
       "      <td>...</td>\n",
       "      <td>...</td>\n",
       "      <td>...</td>\n",
       "      <td>...</td>\n",
       "      <td>...</td>\n",
       "      <td>...</td>\n",
       "      <td>...</td>\n",
       "      <td>...</td>\n",
       "      <td>...</td>\n",
       "      <td>...</td>\n",
       "      <td>...</td>\n",
       "      <td>...</td>\n",
       "      <td>...</td>\n",
       "    </tr>\n",
       "    <tr>\n",
       "      <th>286</th>\n",
       "      <td>287</td>\n",
       "      <td>1</td>\n",
       "      <td>3</td>\n",
       "      <td>de Mulder, Mr. Theodore</td>\n",
       "      <td>male</td>\n",
       "      <td>30.0</td>\n",
       "      <td>0</td>\n",
       "      <td>0</td>\n",
       "      <td>345774</td>\n",
       "      <td>9.5000</td>\n",
       "      <td>NaN</td>\n",
       "      <td>S</td>\n",
       "      <td>1</td>\n",
       "    </tr>\n",
       "    <tr>\n",
       "      <th>282</th>\n",
       "      <td>283</td>\n",
       "      <td>0</td>\n",
       "      <td>3</td>\n",
       "      <td>de Pelsmaeker, Mr. Alfons</td>\n",
       "      <td>male</td>\n",
       "      <td>16.0</td>\n",
       "      <td>0</td>\n",
       "      <td>0</td>\n",
       "      <td>345778</td>\n",
       "      <td>9.5000</td>\n",
       "      <td>NaN</td>\n",
       "      <td>S</td>\n",
       "      <td>1</td>\n",
       "    </tr>\n",
       "    <tr>\n",
       "      <th>361</th>\n",
       "      <td>362</td>\n",
       "      <td>0</td>\n",
       "      <td>2</td>\n",
       "      <td>del Carlo, Mr. Sebastiano</td>\n",
       "      <td>male</td>\n",
       "      <td>29.0</td>\n",
       "      <td>1</td>\n",
       "      <td>0</td>\n",
       "      <td>SC/PARIS 2167</td>\n",
       "      <td>27.7208</td>\n",
       "      <td>NaN</td>\n",
       "      <td>C</td>\n",
       "      <td>1</td>\n",
       "    </tr>\n",
       "    <tr>\n",
       "      <th>153</th>\n",
       "      <td>154</td>\n",
       "      <td>0</td>\n",
       "      <td>3</td>\n",
       "      <td>van Billiard, Mr. Austin Blyler</td>\n",
       "      <td>male</td>\n",
       "      <td>40.5</td>\n",
       "      <td>0</td>\n",
       "      <td>2</td>\n",
       "      <td>A/5. 851</td>\n",
       "      <td>14.5000</td>\n",
       "      <td>NaN</td>\n",
       "      <td>S</td>\n",
       "      <td>1</td>\n",
       "    </tr>\n",
       "    <tr>\n",
       "      <th>868</th>\n",
       "      <td>869</td>\n",
       "      <td>0</td>\n",
       "      <td>3</td>\n",
       "      <td>van Melkebeke, Mr. Philemon</td>\n",
       "      <td>male</td>\n",
       "      <td>NaN</td>\n",
       "      <td>0</td>\n",
       "      <td>0</td>\n",
       "      <td>345777</td>\n",
       "      <td>9.5000</td>\n",
       "      <td>NaN</td>\n",
       "      <td>S</td>\n",
       "      <td>1</td>\n",
       "    </tr>\n",
       "  </tbody>\n",
       "</table>\n",
       "<p>891 rows × 13 columns</p>\n",
       "</div>"
      ],
      "text/plain": [
       "     PassengerId  Survived  Pclass                                   Name  \\\n",
       "845          846         0       3                    Abbing, Mr. Anthony   \n",
       "746          747         0       3            Abbott, Mr. Rossmore Edward   \n",
       "279          280         1       3       Abbott, Mrs. Stanton (Rosa Hunt)   \n",
       "308          309         0       2                    Abelson, Mr. Samuel   \n",
       "874          875         1       2  Abelson, Mrs. Samuel (Hannah Wizosky)   \n",
       "..           ...       ...     ...                                    ...   \n",
       "286          287         1       3                de Mulder, Mr. Theodore   \n",
       "282          283         0       3              de Pelsmaeker, Mr. Alfons   \n",
       "361          362         0       2              del Carlo, Mr. Sebastiano   \n",
       "153          154         0       3        van Billiard, Mr. Austin Blyler   \n",
       "868          869         0       3            van Melkebeke, Mr. Philemon   \n",
       "\n",
       "        Sex   Age  SibSp  Parch         Ticket     Fare Cabin Embarked  \\\n",
       "845    male  42.0      0      0      C.A. 5547   7.5500   NaN        S   \n",
       "746    male  16.0      1      1      C.A. 2673  20.2500   NaN        S   \n",
       "279  female  35.0      1      1      C.A. 2673  20.2500   NaN        S   \n",
       "308    male  30.0      1      0      P/PP 3381  24.0000   NaN        C   \n",
       "874  female  28.0      1      0      P/PP 3381  24.0000   NaN        C   \n",
       "..      ...   ...    ...    ...            ...      ...   ...      ...   \n",
       "286    male  30.0      0      0         345774   9.5000   NaN        S   \n",
       "282    male  16.0      0      0         345778   9.5000   NaN        S   \n",
       "361    male  29.0      1      0  SC/PARIS 2167  27.7208   NaN        C   \n",
       "153    male  40.5      0      2       A/5. 851  14.5000   NaN        S   \n",
       "868    male   NaN      0      0         345777   9.5000   NaN        S   \n",
       "\n",
       "     train_test  \n",
       "845           1  \n",
       "746           1  \n",
       "279           1  \n",
       "308           1  \n",
       "874           1  \n",
       "..          ...  \n",
       "286           1  \n",
       "282           1  \n",
       "361           1  \n",
       "153           1  \n",
       "868           1  \n",
       "\n",
       "[891 rows x 13 columns]"
      ]
     },
     "execution_count": 76,
     "metadata": {},
     "output_type": "execute_result"
    }
   ],
   "source": [
    "training.sort_values(by='Name')"
   ]
  },
  {
   "cell_type": "markdown",
   "metadata": {},
   "source": [
    "## 1d. Relationship between categorical variables and target variable \"Survived\""
   ]
  },
  {
   "cell_type": "code",
   "execution_count": 77,
   "metadata": {},
   "outputs": [
    {
     "name": "stdout",
     "output_type": "stream",
     "text": [
      "Pclass      1   2    3\n",
      "Survived              \n",
      "0          80  97  372\n",
      "1         136  87  119 \n",
      "\n",
      "Sex       female  male\n",
      "Survived              \n",
      "0             81   468\n",
      "1            233   109 \n",
      "\n",
      "Embarked   C   Q    S\n",
      "Survived             \n",
      "0         75  47  427\n",
      "1         93  30  217 \n",
      "\n"
     ]
    }
   ],
   "source": [
    "# Comparing survival and each of these categorical variables \n",
    "print(pd.pivot_table(training, index = 'Survived', columns = 'Pclass', values = 'Ticket' ,aggfunc ='count'),\"\\n\")\n",
    "print(pd.pivot_table(training, index = 'Survived', columns = 'Sex', values = 'Ticket' ,aggfunc ='count'),\"\\n\")\n",
    "print(pd.pivot_table(training, index = 'Survived', columns = 'Embarked', values = 'Ticket' ,aggfunc ='count'),\"\\n\")"
   ]
  },
  {
   "cell_type": "markdown",
   "metadata": {},
   "source": [
    "### i) Pclass vs Survived\n"
   ]
  },
  {
   "cell_type": "code",
   "execution_count": 78,
   "metadata": {},
   "outputs": [
    {
     "data": {
      "image/png": "[encoded data removed]",
      "text/plain": [
       "<Figure size 972x324 with 3 Axes>"
      ]
     },
     "metadata": {
      "needs_background": "light"
     },
     "output_type": "display_data"
    }
   ],
   "source": [
    "#plt.rc('font', size=12)\n",
    "g=sns.catplot(data = training, x = 'Survived', col = 'Pclass', kind = 'count',  height = 4.5)\n",
    "for ax in g.axes.ravel():\n",
    "        # obtaining the height of each bar graph\n",
    "            ls = []\n",
    "            for p in ax.patches:\n",
    "                ls.append(p.get_height())\n",
    "        \n",
    "             # summing of all the total variables   \n",
    "            total = 0\n",
    "            for x in ls:\n",
    "                total += x\n",
    "        \n",
    "            # Plotting the count plot\n",
    "            for p in ax.patches:\n",
    "                ax.annotate(format(p.get_height()/total*100, '.2f'), (p.get_x() + p.get_width() / 2.,\n",
    "                p.get_height()), ha = 'center', va = 'center', xytext = (0, 10), textcoords = 'offset points')"
   ]
  },
  {
   "cell_type": "markdown",
   "metadata": {},
   "source": [
    "For Pclass, it seems that the higher SES the passengers are, the greater chance of survival."
   ]
  },
  {
   "cell_type": "markdown",
   "metadata": {},
   "source": [
    "### ii) Sex vs Survived"
   ]
  },
  {
   "cell_type": "code",
   "execution_count": 79,
   "metadata": {},
   "outputs": [
    {
     "data": {
      "image/png": "[encoded data removed]",
      "text/plain": [
       "<Figure size 648x324 with 2 Axes>"
      ]
     },
     "metadata": {
      "needs_background": "light"
     },
     "output_type": "display_data"
    }
   ],
   "source": [
    "#plt.rc('font', size=12)\n",
    "g=sns.catplot(data = training, x = 'Survived', col = 'Sex', kind = 'count',  height = 4.5)\n",
    "for ax in g.axes.ravel():\n",
    "        # obtaining the height of each bar graph\n",
    "            ls = []\n",
    "            for p in ax.patches:\n",
    "                ls.append(p.get_height())\n",
    "        \n",
    "             # summing of all the total variables   \n",
    "            total = 0\n",
    "            for x in ls:\n",
    "                total += x\n",
    "        \n",
    "            # Plotting the count plot\n",
    "            for p in ax.patches:\n",
    "                ax.annotate(format(p.get_height()/total*100, '.2f'), (p.get_x() + p.get_width() / 2.,\n",
    "                p.get_height()), ha = 'center', va = 'center', xytext = (0, 10), textcoords = 'offset points')"
   ]
  },
  {
   "cell_type": "markdown",
   "metadata": {},
   "source": [
    "A higher proportion of Female survived the shipwreck"
   ]
  },
  {
   "cell_type": "code",
   "execution_count": 80,
   "metadata": {},
   "outputs": [
    {
     "data": {
      "image/png": "[encoded data removed]",
      "text/plain": [
       "<Figure size 972x324 with 3 Axes>"
      ]
     },
     "metadata": {
      "needs_background": "light"
     },
     "output_type": "display_data"
    }
   ],
   "source": [
    "#plt.rc('font', size=12)\n",
    "g=sns.catplot(data = training, x = 'Survived', col = 'Embarked', kind = 'count',  height = 4.5)\n",
    "for ax in g.axes.ravel():\n",
    "        # obtaining the height of each bar graph\n",
    "            ls = []\n",
    "            for p in ax.patches:\n",
    "                ls.append(p.get_height())\n",
    "        \n",
    "             # summing of all the total variables   \n",
    "            total = 0\n",
    "            for x in ls:\n",
    "                total += x\n",
    "        \n",
    "            # Plotting the count plot\n",
    "            for p in ax.patches:\n",
    "                ax.annotate(format(p.get_height()/total*100, '.2f'), (p.get_x() + p.get_width() / 2.,\n",
    "                p.get_height()), ha = 'center', va = 'center', xytext = (0, 10), textcoords = 'offset points')"
   ]
  },
  {
   "cell_type": "code",
   "execution_count": null,
   "metadata": {},
   "outputs": [],
   "source": []
  },
  {
   "cell_type": "markdown",
   "metadata": {},
   "source": [
    "# 2. Feature Engineering"
   ]
  },
  {
   "cell_type": "markdown",
   "metadata": {},
   "source": [
    "## 2a. Does a person's title relate to survival rate?"
   ]
  },
  {
   "cell_type": "code",
   "execution_count": 81,
   "metadata": {},
   "outputs": [],
   "source": [
    "# creating a list based on the names of the passenger without their names in parathesis\n",
    "names = [name.split(\"(\")[0] for name in list(training.Name)]\n",
    "\n",
    "# Create a new column based on their title\n",
    "training[\"Title\"] = re.findall(r\"(\\w+)\\.\",str(names))"
   ]
  },
  {
   "cell_type": "code",
   "execution_count": 82,
   "metadata": {},
   "outputs": [
    {
     "data": {
      "text/plain": [
       "array(['Mr', 'Mrs', 'Miss', 'Master', 'Don', 'Rev', 'Dr', 'Mme', 'Ms',\n",
       "       'Major', 'Lady', 'Sir', 'Mlle', 'Col', 'Capt', 'Countess',\n",
       "       'Jonkheer'], dtype=object)"
      ]
     },
     "execution_count": 82,
     "metadata": {},
     "output_type": "execute_result"
    }
   ],
   "source": [
    "# taking a look at the different titles\n",
    "training.Title.unique()"
   ]
  },
  {
   "cell_type": "code",
   "execution_count": 83,
   "metadata": {},
   "outputs": [],
   "source": [
    "# Creating a new column based on the title of the passenger if he/she of a nobility or special position in society\n",
    "training[\"Special_title\"] = training.Title.apply(lambda x: 1 if x in (\"Don\",\"Dr\",\"Major\",\"Lady\",\"Sir\",\"Col\",\"Capt\",\"Countess\",\"Jonkheer\") else 0)"
   ]
  },
  {
   "cell_type": "code",
   "execution_count": 84,
   "metadata": {},
   "outputs": [
    {
     "name": "stdout",
     "output_type": "stream",
     "text": [
      "Special_title    0  1\n",
      "Survived             \n",
      "0              540  9\n",
      "1              334  8 \n",
      "\n"
     ]
    },
    {
     "data": {
      "image/png": "[encoded data removed]",
      "text/plain": [
       "<Figure size 648x324 with 2 Axes>"
      ]
     },
     "metadata": {
      "needs_background": "light"
     },
     "output_type": "display_data"
    }
   ],
   "source": [
    "# Comparing survival and each of these categorical variables \n",
    "print(pd.pivot_table(training, index = 'Survived', columns = 'Special_title', values = 'Ticket' ,aggfunc ='count'),\"\\n\")\n",
    "g=sns.catplot(data = training, x = 'Survived', col = 'Special_title', kind = 'count',  height = 4.5)\n",
    "for ax in g.axes.ravel():\n",
    "        # obtaining the height of each bar graph\n",
    "            ls = []\n",
    "            for p in ax.patches:\n",
    "                ls.append(p.get_height())\n",
    "        \n",
    "             # summing of all the total variables   \n",
    "            total = 0\n",
    "            for x in ls:\n",
    "                total += x\n",
    "        \n",
    "            # Plotting the count plot\n",
    "            for p in ax.patches:\n",
    "                ax.annotate(format(p.get_height()/total*100, '.2f'), (p.get_x() + p.get_width() / 2.,\n",
    "                p.get_height()), ha = 'center', va = 'center', xytext = (0, 10), textcoords = 'offset points')"
   ]
  },
  {
   "cell_type": "markdown",
   "metadata": {},
   "source": [
    "It seems that passenger of a special title has a higher chances of survival."
   ]
  },
  {
   "cell_type": "markdown",
   "metadata": {},
   "source": [
    "## 2b) Does different ticket type relate to survival rate?"
   ]
  },
  {
   "cell_type": "code",
   "execution_count": 85,
   "metadata": {},
   "outputs": [],
   "source": [
    "#understand ticket values better \n",
    "#numeric vs non numeric \n",
    "training['numeric_ticket'] = training.Ticket.apply(lambda x: 1 if x.isnumeric() else 0)\n",
    "training['text_ticket'] = training.Ticket.apply(lambda x: ''.join(x.split(' ')[:-1]).replace('.','').replace('/','') if len(x.split(' ')[:-1]) >0 else 0)"
   ]
  },
  {
   "cell_type": "code",
   "execution_count": 86,
   "metadata": {},
   "outputs": [
    {
     "name": "stdout",
     "output_type": "stream",
     "text": [
      "numeric_ticket    0    1\n",
      "Survived                \n",
      "0               142  407\n",
      "1                88  254 \n",
      "\n"
     ]
    },
    {
     "data": {
      "image/png": "[encoded data removed]",
      "text/plain": [
       "<Figure size 648x324 with 2 Axes>"
      ]
     },
     "metadata": {
      "needs_background": "light"
     },
     "output_type": "display_data"
    }
   ],
   "source": [
    "# Comparing survival and each of these categorical variables \n",
    "print(pd.pivot_table(training, index = 'Survived', columns = 'numeric_ticket', values = 'Ticket' ,aggfunc ='count'),\"\\n\")\n",
    "g=sns.catplot(data = training, x = 'Survived', col = 'numeric_ticket', kind = 'count',  height = 4.5)\n",
    "for ax in g.axes.ravel():\n",
    "        # obtaining the height of each bar graph\n",
    "            ls = []\n",
    "            for p in ax.patches:\n",
    "                ls.append(p.get_height())\n",
    "        \n",
    "             # summing of all the total variables   \n",
    "            total = 0\n",
    "            for x in ls:\n",
    "                total += x\n",
    "        \n",
    "            # Plotting the count plot\n",
    "            for p in ax.patches:\n",
    "                ax.annotate(format(p.get_height()/total*100, '.2f'), (p.get_x() + p.get_width() / 2.,\n",
    "                p.get_height()), ha = 'center', va = 'center', xytext = (0, 10), textcoords = 'offset points')"
   ]
  },
  {
   "cell_type": "markdown",
   "metadata": {},
   "source": [
    "It seems that ticket variation does not affect survival rate of passenger"
   ]
  },
  {
   "cell_type": "markdown",
   "metadata": {},
   "source": [
    "## 2c) Does different types of traveller affect surivival rate?"
   ]
  },
  {
   "cell_type": "markdown",
   "metadata": {},
   "source": [
    "`Travel_cat`: The category of each passenger based on their travel size\n",
    "* 1: Individual traveller\n",
    "* 2: Travelling as a couple/sibling\n",
    "* 3: Travelling as a family"
   ]
  },
  {
   "cell_type": "code",
   "execution_count": 87,
   "metadata": {},
   "outputs": [],
   "source": [
    "# Creating a column to determine the travel size of each passenger \n",
    "training[\"travel_size\"] = training.SibSp + training.Parch + 1\n",
    "\n",
    "# Creating a category of each passenger based on travel size\n",
    "training[\"travel_cat\"] =  training.travel_size.apply(lambda x: 3 if x >2 else (2 if x == 2 else 1))\n"
   ]
  },
  {
   "cell_type": "code",
   "execution_count": 88,
   "metadata": {},
   "outputs": [
    {
     "name": "stdout",
     "output_type": "stream",
     "text": [
      "travel_cat    1   2    3\n",
      "Survived                \n",
      "0           374  72  103\n",
      "1           163  89   90 \n",
      "\n"
     ]
    },
    {
     "data": {
      "image/png": "[encoded data removed]",
      "text/plain": [
       "<Figure size 972x324 with 3 Axes>"
      ]
     },
     "metadata": {
      "needs_background": "light"
     },
     "output_type": "display_data"
    }
   ],
   "source": [
    "# Comparing survival and each of these categorical variables \n",
    "print(pd.pivot_table(training, index = 'Survived', columns = 'travel_cat', values = 'Ticket' ,aggfunc ='count'),\"\\n\")\n",
    "g=sns.catplot(data = training, x = 'Survived', col = 'travel_cat', kind = 'count',  height = 4.5)\n",
    "for ax in g.axes.ravel():\n",
    "        # obtaining the height of each bar graph\n",
    "            ls = []\n",
    "            for p in ax.patches:\n",
    "                ls.append(p.get_height())\n",
    "        \n",
    "             # summing of all the total variables   \n",
    "            total = 0\n",
    "            for x in ls:\n",
    "                total += x\n",
    "        \n",
    "            # Plotting the count plot\n",
    "            for p in ax.patches:\n",
    "                ax.annotate(format(p.get_height()/total*100, '.2f'), (p.get_x() + p.get_width() / 2.,\n",
    "                p.get_height()), ha = 'center', va = 'center', xytext = (0, 10), textcoords = 'offset points')"
   ]
  },
  {
   "cell_type": "markdown",
   "metadata": {},
   "source": [
    "Based on travel_cat, it seems that passengers that are travelling more than 1 pax has a higher chance of survival"
   ]
  },
  {
   "cell_type": "markdown",
   "metadata": {},
   "source": [
    "## 2d) Does different age group of traveller affect surivival rate?"
   ]
  },
  {
   "cell_type": "markdown",
   "metadata": {},
   "source": [
    "Since a portion of passenger age is missing from the dataset, we can create a age group to differentiate each passenger"
   ]
  },
  {
   "cell_type": "code",
   "execution_count": 89,
   "metadata": {},
   "outputs": [],
   "source": [
    "age_group=[]\n",
    "for row,column in training.iterrows():\n",
    "    # For passenger with age missing\n",
    "    if np.isnan(training.Age[row]) :\n",
    "        # To identify children\n",
    "        if ((training.SibSp[row] > 2) or ((training.SibSp[row] ==1)&(training.Parch[row] ==1))):\n",
    "            age_group.append('Child')\n",
    "        else:\n",
    "            age_group.append('Adult')\n",
    "    else:\n",
    "        if training.Age[row] <= 14:\n",
    "            age_group.append('Child')\n",
    "        else:\n",
    "            age_group.append('Adult')\n",
    "training['age_group'] = age_group\n",
    "\n"
   ]
  },
  {
   "cell_type": "code",
   "execution_count": 90,
   "metadata": {},
   "outputs": [
    {
     "name": "stdout",
     "output_type": "stream",
     "text": [
      "age_group  Adult  Child\n",
      "Survived               \n",
      "0            506     43\n",
      "1            294     48 \n",
      "\n"
     ]
    },
    {
     "data": {
      "image/png": "[encoded data removed]",
      "text/plain": [
       "<Figure size 648x324 with 2 Axes>"
      ]
     },
     "metadata": {
      "needs_background": "light"
     },
     "output_type": "display_data"
    }
   ],
   "source": [
    "# Comparing survival and each of these categorical variables \n",
    "print(pd.pivot_table(training, index = 'Survived', columns = 'age_group', values = 'Ticket' ,aggfunc ='count'),\"\\n\")\n",
    "g=sns.catplot(data = training, x = 'Survived', col = 'age_group', kind = 'count',  height = 4.5)\n",
    "for ax in g.axes.ravel():\n",
    "        # obtaining the height of each bar graph\n",
    "            ls = []\n",
    "            for p in ax.patches:\n",
    "                ls.append(p.get_height())\n",
    "        \n",
    "             # summing of all the total variables   \n",
    "            total = 0\n",
    "            for x in ls:\n",
    "                total += x\n",
    "        \n",
    "            # Plotting the count plot\n",
    "            for p in ax.patches:\n",
    "                ax.annotate(format(p.get_height()/total*100, '.2f'), (p.get_x() + p.get_width() / 2.,\n",
    "                p.get_height()), ha = 'center', va = 'center', xytext = (0, 10), textcoords = 'offset points')"
   ]
  },
  {
   "cell_type": "markdown",
   "metadata": {},
   "source": [
    "Children have a higher survival rate as compared to adults"
   ]
  },
  {
   "cell_type": "markdown",
   "metadata": {},
   "source": [
    "# 3. Data Preprocessing"
   ]
  },
  {
   "cell_type": "code",
   "execution_count": 91,
   "metadata": {},
   "outputs": [
    {
     "name": "stderr",
     "output_type": "stream",
     "text": [
      "C:\\Users\\kelvin.tanwm\\AppData\\Local\\Temp\\ipykernel_31024\\1081556623.py:51: SettingWithCopyWarning: \n",
      "A value is trying to be set on a copy of a slice from a DataFrame\n",
      "\n",
      "See the caveats in the documentation: https://pandas.pydata.org/pandas-docs/stable/user_guide/indexing.html#returning-a-view-versus-a-copy\n",
      "  df.Fare[row] = df.groupby('Pclass').Fare.median()[3]\n",
      "C:\\Users\\kelvin.tanwm\\AppData\\Local\\Temp\\ipykernel_31024\\1081556623.py:47: SettingWithCopyWarning: \n",
      "A value is trying to be set on a copy of a slice from a DataFrame\n",
      "\n",
      "See the caveats in the documentation: https://pandas.pydata.org/pandas-docs/stable/user_guide/indexing.html#returning-a-view-versus-a-copy\n",
      "  df.Fare[row] = df.groupby('Pclass').Fare.median()[1]\n",
      "C:\\Users\\kelvin.tanwm\\AppData\\Local\\Temp\\ipykernel_31024\\1081556623.py:49: SettingWithCopyWarning: \n",
      "A value is trying to be set on a copy of a slice from a DataFrame\n",
      "\n",
      "See the caveats in the documentation: https://pandas.pydata.org/pandas-docs/stable/user_guide/indexing.html#returning-a-view-versus-a-copy\n",
      "  df.Fare[row] = df.groupby('Pclass').Fare.median()[2]\n"
     ]
    }
   ],
   "source": [
    "# creating a list based on the names of the passenger without their names in parathesis\n",
    "name_list = [name.split(\"(\")[0] for name in list(all_data.Name)]\n",
    "\n",
    "# Create a new column based on their title\n",
    "all_data[\"Title\"] = re.findall(r\"(\\w+)\\.\",str(name_list))\n",
    "\n",
    "# Creating a new column based on the title of the passenger if he/she of a nobility or special position in society\n",
    "all_data[\"Special_title\"] = all_data.Title.apply(lambda x: 1 if x in (\"Don\",\"Dr\",\"Major\",\"Lady\",\"Sir\",\"Col\",\"Capt\",\"Countess\",\"Jonkheer\") else 0)\n",
    "\n",
    "# Creating a column to determine the travel size of each passenger \n",
    "all_data[\"travel_size\"] = all_data.SibSp + all_data.Parch + 1\n",
    "\n",
    "# Creating a category of each passenger based on travel size\n",
    "all_data[\"travel_cat\"] =  all_data.travel_size.apply(lambda x: 3 if x >2 else (2 if x == 2 else 1))\n",
    "\n",
    "age_group=[]\n",
    "for row,column in all_data.iterrows():\n",
    "    # For passenger with age missing\n",
    "    if np.isnan(all_data.Age[row]):\n",
    "        # To identify children\n",
    "        if (all_data.SibSp[row] > 2) | ((all_data.SibSp[row] ==1)&(all_data.Parch[row] ==1)):\n",
    "            age_group.append('Child')\n",
    "        else:\n",
    "            age_group.append('Adult')\n",
    "    else:\n",
    "        if all_data.Age[row] <= 14:\n",
    "            age_group.append('Child')\n",
    "        else:\n",
    "            age_group.append('Adult')\n",
    "all_data['age_group'] = age_group\n",
    "\n",
    "# Fill Fare that is NA \n",
    "all_data.Fare = all_data.Fare.fillna(all_data.groupby('Pclass').Fare.median()[3])\n",
    "\n",
    "#Create a copy of the dataframe\n",
    "df = all_data.copy()\n",
    "\n",
    "#drop null 'embarked' rows. Only 2 instances of this in training and 0 in test \n",
    "df.dropna(subset=['Embarked'],inplace = True)\n",
    "\n",
    "#drop the following columns: PassengerID, Ticket, Cabin, Title, Age\n",
    "df.drop(columns=['PassengerId','Name','Age','Ticket','Cabin','Title'],inplace=True)\n",
    "\n",
    "# Replace Fare that are 0 with median Fare price\n",
    "for row, column in df.iterrows():\n",
    "    if (df.Fare[row] == 0) & (df.Pclass[row] == 1):\n",
    "        df.Fare[row] = df.groupby('Pclass').Fare.median()[1]\n",
    "    elif (df.Fare[row] == 0) & (df.Pclass[row] == 2):\n",
    "        df.Fare[row] = df.groupby('Pclass').Fare.median()[2]\n",
    "    elif (df.Fare[row] == 0) & (df.Pclass[row] == 3):\n",
    "        df.Fare[row] = df.groupby('Pclass').Fare.median()[3]\n",
    "\n",
    "# Convert Pclass, travel_cat to str\n",
    "df.Pclass = df.Pclass.astype(str)\n",
    "df.travel_cat = df.travel_cat.astype(str)\n",
    "df.Special_title = df.Special_title.astype(bool) "
   ]
  },
  {
   "cell_type": "code",
   "execution_count": 111,
   "metadata": {},
   "outputs": [],
   "source": [
    "# Creating train and test set\n",
    "X_train = df[df.train_test == 1].drop(['train_test','Survived'],axis = 1)\n",
    "y_train = df[df.train_test == 1].Survived\n",
    "X_test = df[df.train_test == 0].drop(['train_test','Survived'],axis = 1)"
   ]
  },
  {
   "cell_type": "code",
   "execution_count": 112,
   "metadata": {},
   "outputs": [],
   "source": [
    "# Scaling and encoding the data\n",
    "ct = ColumnTransformer([ \n",
    "        #('Scaled Age', StandardScaler(), ['Age']) # -1 to 1 \n",
    "        ('Numerical Variables',MinMaxScaler(), ['SibSp','Parch','Fare','travel_size']) \n",
    "        ,('Catergorical Variables', OneHotEncoder(), ['Pclass','Sex','Embarked','travel_cat','age_group'])\n",
    "],remainder='passthrough') # Special_title"
   ]
  },
  {
   "cell_type": "code",
   "execution_count": 113,
   "metadata": {},
   "outputs": [],
   "source": [
    "X_train = ct.fit_transform(X_train)\n",
    "X_test = ct.fit_transform(X_test)\n",
    "# Smoting the imbalanced dataset\n",
    "# X, y =  SMOTE().fit_resample(X_transform,y_raw)"
   ]
  },
  {
   "cell_type": "code",
   "execution_count": 115,
   "metadata": {},
   "outputs": [],
   "source": [
    "\n",
    "# Classifier models \n",
    "lr = LogisticRegression(max_iter = 2000) #Using logistic regression as a baseline\n",
    "rf = RandomForestClassifier(n_estimators = 200,random_state = 41 ,n_jobs=-1)\n",
    "lgbm = LGBMClassifier(n_jobs = -1)\n",
    "xgbc = xgb.XGBClassifier()\n",
    "et = ExtraTreesClassifier()\n",
    "#stacking_clf = StackingClassifier(estimators = [('rf',rf),('xgbc',xgbc),('lgbm',lgbm),('et',et)]) \n",
    "\n",
    "models = [['LogisticRegression',lr,{'max_iter' : [2000],'penalty' : ['l1', 'l2'],'C' : np.logspace(-4, 4, 20),'solver' : ['liblinear']}]\n",
    "            ,['RandomForestClassifier',rf,{'n_estimators': np.arange(50,300,25),'criterion':['gini','entropy'],'max_depth': np.arange(10,30,5), 'min_samples_split': [2,3],'min_samples_leaf': [1,2,3],'max_features': ['log2','sqrt'], 'bootstrap':[True], 'random_state': [41],'n_jobs': [-1]}]\n",
    "            ,['XGBClassifier', xgbc,{'n_estimators': np.arange(200,550,50),'colsample_bytree': [0.75,0.8,0.85],'max_depth': [None],'reg_alpha': [1],'reg_lambda': [2, 5, 10],'subsample': [0.55, 0.6, .65],'gamma':[.5,1,2],'min_child_weight':[0.01],'sampling_method': ['uniform']}]\n",
    "            ,['LGBMClassifier',lgbm,{'n_jobs': [-1],'reg_alpha': np.arange(0.0,1,0.1),'reg_lambda': np.arange(0.1,1,0.1),'max_depth': [-1]}]\n",
    "            ,['ExtraTreesClassifier',et,{'n_estimators': np.arange(80,120,10), 'bootstrap': (True, False), 'n_jobs': (-1,), 'max_features': (\"sqrt\",\"log2\"), 'min_samples_leaf': (1,2, 3)}]\n",
    "            #,['StackingClassifier',stacking_clf]\n",
    "            ]\n",
    "\n",
    "# Create a function to bulk train all models and see their\n",
    "def bulk_train(variables, target):\n",
    "    for model in models:\n",
    "        cv = cross_val_score(model[1],variables,target,cv=5)\n",
    "        print(f'{model[0]}\\n',cv)\n",
    "        print('Mean CV score: ',cv.mean())\n",
    "        print('='*50)\n",
    "\n",
    "# Create a function to show the performance of all models\n",
    "def show_performance(X_train = None, X_test = None, y_train = None,y_test = None,models = None,trained = None):\n",
    "    for model in models:\n",
    "        if trained == False:\n",
    "            model[1].fit(X_train,y_train)\n",
    "        predict = model[1].predict(X_test)\n",
    "        # Plotting the confusion matrix\n",
    "        cm=confusion_matrix(y_test, predict)\n",
    "        conf_matrix=pd.DataFrame(data=cm,columns=['Predicted:0','Predicted:1'],\n",
    "                                         index=['Actual:0','Actual:1'])\n",
    "\n",
    "        plt.figure(figsize = (8,5))\n",
    "        sns.heatmap(conf_matrix, annot=True,fmt='d')\n",
    "        plt.title(f\"Confusion Matrix for {model[0]}\")\n",
    "        plt.yticks(rotation=360)\n",
    "        plt.show()\n",
    "        \n",
    "        print(f\"Accuracy Score for {model[0]} :\",accuracy_score(y_test,predict))\n",
    "        print(f\"F1 Score for {model[0]} :\", f1_score(y_test,predict))\n",
    "        print(\"-\"*100)\n",
    "        print(f\"\\nClassification Report for {model[0]} :\\n\\n\",classification_report(y_test, predict))\n",
    "        print(\"=\"*100)\n",
    "\n",
    "# Create a tuning function to train all models based on CV score\n",
    "def tuning(X_train = None, y_train = None):\n",
    "    start_time = time.time()\n",
    "    # Create a tracker to find the best parameter\n",
    "    def clf_performance(classifier, model_name):\n",
    "        print(model_name)\n",
    "        print('Best Score: ' + str(classifier.best_score_))\n",
    "        print('Best Parameters: ' + str(classifier.best_params_))\n",
    "        print('='*100)\n",
    "\n",
    "    result =[]\n",
    "    for model in models:\n",
    "        clf = HalvingGridSearchCV(model[1], param_grid = model[2], scoring = 'f1',cv = 5, n_jobs = -1, random_state = 41) # n_jobs = -1 using all processors\n",
    "        best_clf = clf.fit(X_train,y_train)\n",
    "        result.append([model[0],best_clf])\n",
    "        clf_performance(best_clf,f'{model[0]}')\n",
    "        print('Time taken: {:.2f} seconds'.format(time.time() - start_time))\n",
    "    #return result"
   ]
  },
  {
   "cell_type": "code",
   "execution_count": 121,
   "metadata": {},
   "outputs": [
    {
     "name": "stdout",
     "output_type": "stream",
     "text": [
      "LogisticRegression\n",
      " [0.78651685 0.80337079 0.79213483 0.78651685 0.82485876]\n",
      "Mean CV score:  0.7986796165809688\n",
      "==================================================\n",
      "RandomForestClassifier\n",
      " [0.76966292 0.76966292 0.8258427  0.80898876 0.82485876]\n",
      "Mean CV score:  0.7998032120865867\n",
      "==================================================\n",
      "XGBClassifier\n",
      " [0.78089888 0.79775281 0.85393258 0.83146067 0.86440678]\n",
      "Mean CV score:  0.8256903446962485\n",
      "==================================================\n",
      "LGBMClassifier\n",
      " [0.79775281 0.78651685 0.86516854 0.81460674 0.85310734]\n",
      "Mean CV score:  0.8234304576905986\n",
      "==================================================\n",
      "ExtraTreesClassifier\n",
      " [0.78089888 0.76404494 0.80898876 0.80898876 0.81920904]\n",
      "Mean CV score:  0.7964260775725259\n",
      "==================================================\n"
     ]
    }
   ],
   "source": [
    "bulk_train(variables = X_train, target = y_train)"
   ]
  },
  {
   "cell_type": "code",
   "execution_count": 122,
   "metadata": {},
   "outputs": [
    {
     "data": {
      "image/png": "[encoded data removed]",
      "text/plain": [
       "<Figure size 576x360 with 2 Axes>"
      ]
     },
     "metadata": {
      "needs_background": "light"
     },
     "output_type": "display_data"
    },
    {
     "name": "stdout",
     "output_type": "stream",
     "text": [
      "Accuracy Score for LogisticRegression : 0.8087739032620922\n",
      "F1 Score for LogisticRegression : 0.7400611620795107\n",
      "----------------------------------------------------------------------------------------------------\n",
      "\n",
      "Classification Report for LogisticRegression :\n",
      "\n",
      "               precision    recall  f1-score   support\n",
      "\n",
      "         0.0       0.83      0.87      0.85       549\n",
      "         1.0       0.77      0.71      0.74       340\n",
      "\n",
      "    accuracy                           0.81       889\n",
      "   macro avg       0.80      0.79      0.79       889\n",
      "weighted avg       0.81      0.81      0.81       889\n",
      "\n",
      "====================================================================================================\n"
     ]
    },
    {
     "data": {
      "image/png": "[encoded data removed]",
      "text/plain": [
       "<Figure size 576x360 with 2 Axes>"
      ]
     },
     "metadata": {
      "needs_background": "light"
     },
     "output_type": "display_data"
    },
    {
     "name": "stdout",
     "output_type": "stream",
     "text": [
      "Accuracy Score for RandomForestClassifier : 0.9302587176602924\n",
      "F1 Score for RandomForestClassifier : 0.9063444108761329\n",
      "----------------------------------------------------------------------------------------------------\n",
      "\n",
      "Classification Report for RandomForestClassifier :\n",
      "\n",
      "               precision    recall  f1-score   support\n",
      "\n",
      "         0.0       0.93      0.96      0.94       549\n",
      "         1.0       0.93      0.88      0.91       340\n",
      "\n",
      "    accuracy                           0.93       889\n",
      "   macro avg       0.93      0.92      0.93       889\n",
      "weighted avg       0.93      0.93      0.93       889\n",
      "\n",
      "====================================================================================================\n"
     ]
    },
    {
     "data": {
      "image/png": "[encoded data removed]",
      "text/plain": [
       "<Figure size 576x360 with 2 Axes>"
      ]
     },
     "metadata": {
      "needs_background": "light"
     },
     "output_type": "display_data"
    },
    {
     "name": "stdout",
     "output_type": "stream",
     "text": [
      "Accuracy Score for XGBClassifier : 0.9178852643419573\n",
      "F1 Score for XGBClassifier : 0.8882082695252681\n",
      "----------------------------------------------------------------------------------------------------\n",
      "\n",
      "Classification Report for XGBClassifier :\n",
      "\n",
      "               precision    recall  f1-score   support\n",
      "\n",
      "         0.0       0.91      0.96      0.94       549\n",
      "         1.0       0.93      0.85      0.89       340\n",
      "\n",
      "    accuracy                           0.92       889\n",
      "   macro avg       0.92      0.91      0.91       889\n",
      "weighted avg       0.92      0.92      0.92       889\n",
      "\n",
      "====================================================================================================\n"
     ]
    },
    {
     "data": {
      "image/png": "[encoded data removed]",
      "text/plain": [
       "<Figure size 576x360 with 2 Axes>"
      ]
     },
     "metadata": {
      "needs_background": "light"
     },
     "output_type": "display_data"
    },
    {
     "name": "stdout",
     "output_type": "stream",
     "text": [
      "Accuracy Score for LGBMClassifier : 0.9010123734533183\n",
      "F1 Score for LGBMClassifier : 0.8654434250764526\n",
      "----------------------------------------------------------------------------------------------------\n",
      "\n",
      "Classification Report for LGBMClassifier :\n",
      "\n",
      "               precision    recall  f1-score   support\n",
      "\n",
      "         0.0       0.90      0.94      0.92       549\n",
      "         1.0       0.90      0.83      0.87       340\n",
      "\n",
      "    accuracy                           0.90       889\n",
      "   macro avg       0.90      0.89      0.89       889\n",
      "weighted avg       0.90      0.90      0.90       889\n",
      "\n",
      "====================================================================================================\n"
     ]
    },
    {
     "data": {
      "image/png": "[encoded data removed]",
      "text/plain": [
       "<Figure size 576x360 with 2 Axes>"
      ]
     },
     "metadata": {
      "needs_background": "light"
     },
     "output_type": "display_data"
    },
    {
     "name": "stdout",
     "output_type": "stream",
     "text": [
      "Accuracy Score for ExtraTreesClassifier : 0.9302587176602924\n",
      "F1 Score for ExtraTreesClassifier : 0.9054878048780487\n",
      "----------------------------------------------------------------------------------------------------\n",
      "\n",
      "Classification Report for ExtraTreesClassifier :\n",
      "\n",
      "               precision    recall  f1-score   support\n",
      "\n",
      "         0.0       0.92      0.97      0.94       549\n",
      "         1.0       0.94      0.87      0.91       340\n",
      "\n",
      "    accuracy                           0.93       889\n",
      "   macro avg       0.93      0.92      0.93       889\n",
      "weighted avg       0.93      0.93      0.93       889\n",
      "\n",
      "====================================================================================================\n"
     ]
    }
   ],
   "source": [
    "show_performance(X_train = X_train, X_test= X_train, y_train = y_train, y_test= y_train, models = models, trained = False)"
   ]
  },
  {
   "cell_type": "markdown",
   "metadata": {},
   "source": [
    "Random Forest Classifier seems to peform the best with the highest F1 score"
   ]
  },
  {
   "cell_type": "markdown",
   "metadata": {},
   "source": [
    "# Tuning the model hyperparameters"
   ]
  },
  {
   "cell_type": "code",
   "execution_count": 107,
   "metadata": {},
   "outputs": [
    {
     "name": "stdout",
     "output_type": "stream",
     "text": [
      "LogisticRegression\n",
      "Best Score: 0.7322410854997351\n",
      "Best Parameters: {'C': 11.288378916846883, 'max_iter': 2000, 'penalty': 'l1', 'solver': 'liblinear'}\n",
      "====================================================================================================\n",
      "Time taken: 5.09 seconds\n",
      "RandomForestClassifier\n",
      "Best Score: 0.7478333508695062\n",
      "Best Parameters: {'criterion': 'entropy', 'max_depth': 10, 'max_features': 'sqrt', 'min_samples_leaf': 1, 'min_samples_split': 2, 'n_estimators': 275}\n",
      "====================================================================================================\n",
      "Time taken: 1105.97 seconds\n",
      "XGBClassifier\n",
      "Best Score: 0.7712805125800906\n",
      "Best Parameters: {'colsample_bytree': 0.85, 'gamma': 0.5, 'max_depth': None, 'min_child_weight': 0.01, 'n_estimators': 250, 'reg_alpha': 1, 'reg_lambda': 2, 'sampling_method': 'uniform', 'subsample': 0.65}\n",
      "====================================================================================================\n",
      "Time taken: 1498.51 seconds\n",
      "LGBMClassifier\n",
      "Best Score: 0.8127641873396986\n",
      "Best Parameters: {'max_depth': -1, 'n_jobs': -1, 'reg_alpha': 0.2, 'reg_lambda': 0.6}\n",
      "====================================================================================================\n",
      "Time taken: 1501.99 seconds\n",
      "ExtraTreesClassifier\n",
      "Best Score: 0.7427134747098589\n",
      "Best Parameters: {'bootstrap': True, 'max_features': 'log2', 'min_samples_leaf': 2, 'n_estimators': 80, 'n_jobs': -1}\n",
      "====================================================================================================\n",
      "Time taken: 1529.53 seconds\n"
     ]
    }
   ],
   "source": [
    "tuning(X_train= X_train, y_train= y_train)"
   ]
  },
  {
   "cell_type": "code",
   "execution_count": null,
   "metadata": {},
   "outputs": [],
   "source": [
    "# # Retrieving the feature importances for Random Forest Classifier \n",
    "# best_rf = a[1][1].best_estimator_.fit(X_train,y_train)\n",
    "# feat_importances = pd.Series(best_rf.feature_importances_, index = get_feature_names(ct))\n",
    "# feat_importances.nlargest(20).plot(kind='barh')"
   ]
  },
  {
   "cell_type": "markdown",
   "metadata": {},
   "source": [
    "# Submission of the final prediction"
   ]
  },
  {
   "cell_type": "code",
   "execution_count": 117,
   "metadata": {},
   "outputs": [],
   "source": [
    "rf.fit(X_train, y_train)\n",
    "y_hat_rf = rf.predict(X_test).astype(int)\n",
    "\n",
    "final_data = {'PassengerId': test.PassengerId, 'Survived': y_hat_rf}\n",
    "submission = pd.DataFrame(data=final_data)\n"
   ]
  },
  {
   "cell_type": "code",
   "execution_count": 120,
   "metadata": {},
   "outputs": [],
   "source": [
    "#prepare submission files \n",
    "submission.to_csv('submission_rf.csv', index =False)"
   ]
  },
  {
   "cell_type": "code",
   "execution_count": null,
   "metadata": {},
   "outputs": [],
   "source": []
  }
 ],
 "metadata": {
  "kernelspec": {
   "display_name": "Python 3.9.6 64-bit",
   "language": "python",
   "name": "python3"
  },
  "language_info": {
   "codemirror_mode": {
    "name": "ipython",
    "version": 3
   },
   "file_extension": ".py",
   "mimetype": "text/x-python",
   "name": "python",
   "nbconvert_exporter": "python",
   "pygments_lexer": "ipython3",
   "version": "3.9.6"
  },
  "orig_nbformat": 4,
  "vscode": {
   "interpreter": {
    "hash": "53d6b41c6967e7b5b6fc777c9b7ff25245c7f4953d469ef11039e4afa6ce620a"
   }
  }
 },
 "nbformat": 4,
 "nbformat_minor": 2
}
